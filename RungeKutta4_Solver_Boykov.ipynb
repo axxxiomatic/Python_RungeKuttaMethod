{
 "cells": [
  {
   "cell_type": "code",
   "execution_count": 1,
   "id": "b56f5dd3-4652-4585-892a-0858a676d396",
   "metadata": {},
   "outputs": [
    {
     "name": "stderr",
     "output_type": "stream",
     "text": [
      "Matplotlib is building the font cache; this may take a moment.\n"
     ]
    },
    {
     "name": "stdin",
     "output_type": "stream",
     "text": [
      "Введите значение y(0): 0\n",
      "Введите границы промежутка поиска решения [a; b] через пробел: 0 1\n",
      " 0.1\n"
     ]
    },
    {
     "name": "stdout",
     "output_type": "stream",
     "text": [
      "n = 11\n",
      "Сетка w: [0.  0.1 0.2 0.3 0.4 0.5 0.6 0.7 0.8 0.9 1. ]\n"
     ]
    },
    {
     "name": "stdin",
     "output_type": "stream",
     "text": [
      "Введите 0, если выполнять проверку не нужно, и 1, если нужно. 1\n"
     ]
    },
    {
     "name": "stdout",
     "output_type": "stream",
     "text": [
      "\n",
      "Численное решение дифференциального уравнения:\n",
      " [0.00000000e+00 3.33677234e-04 2.68814723e-03 9.24646012e-03\n",
      " 2.27435689e-02 4.72148971e-02 8.93597832e-02 1.61115047e-01\n",
      " 2.84777008e-01 5.03731502e-01 9.06055276e-01]\n",
      "\n",
      "Значения невязок:\n",
      " [0.00000000e+00 1.04010210e-08 6.16654599e-08 1.49898989e-07\n",
      " 2.64439981e-07 3.78271673e-07 4.11865906e-07 8.51755518e-08\n",
      " 1.67788591e-06 9.09317806e-06 3.86666734e-05]\n",
      "Максимальная невязка: 3.866667342677932e-05\n",
      "\n",
      "Вывод: действительно, получен 4 порядок аппроксимации.\n"
     ]
    },
    {
     "data": {
      "image/png": "[encoded data removed]",
      "text/plain": [
       "<Figure size 640x480 with 1 Axes>"
      ]
     },
     "metadata": {},
     "output_type": "display_data"
    }
   ],
   "source": [
    "import numpy as np\n",
    "import matplotlib.pyplot as plt\n",
    "\n",
    "def RungeKutta4(fname):\n",
    "    # Ввод начального условия\n",
    "    y0 = float(input('Введите значение y(0):'))\n",
    "    \n",
    "    # Ввод a, b\n",
    "    a, b = map(float, input('Введите границы промежутка поиска решения [a; b] через пробел:').split())\n",
    "    \n",
    "    # Ввод h\n",
    "    h = float(input('Введите шаг h:'))\n",
    "    \n",
    "    # Определим число узлов n (на самом деле n + 1)\n",
    "    n = int((b - a) / h + 1)\n",
    "    print('n =', n)\n",
    "    \n",
    "    # Зададим сетку\n",
    "    w = np.zeros(n)\n",
    "    k = 0\n",
    "    for k in range (0, n):\n",
    "        if k == 0:\n",
    "            w[k] = a\n",
    "        else:\n",
    "            w[k] = w[k - 1] + h\n",
    "            \n",
    "    print('Сетка w:', w)\n",
    "    \n",
    "    # Зададим массив значений сеточной функции\n",
    "    y_k = np.zeros(n)\n",
    "    y_k[0] = y0\n",
    "    \n",
    "    # Массив промежуточных функций для метода Рунге-Кутты\n",
    "    p = np.ones(n)\n",
    "    \n",
    "    # Приступим к применению метода\n",
    "    k = 1\n",
    "    i = 0\n",
    "    for k in range (1, n):\n",
    "        p[0] = fname(w[k - 1], y_k[k - 1])\n",
    "        p[1] = fname(w[k - 1] + 0.5 * h, y_k[k - 1] + 0.5 * h * p[0])\n",
    "        p[2] = fname(w[k - 1] + 0.5 * h, y_k[k - 1] + 0.5 * h * p[1])\n",
    "        p[3] = fname(w[k - 1] + h, y_k[k - 1] + h * p[2])\n",
    "        y_k[k] = y_k[k - 1] + (h / 6) * (p[0] + 2 * p[1] + 2 * p[2] + p[3])\n",
    "        \n",
    "    # Вернём сетку и численное решение ДУ\n",
    "    return w, y_k\n",
    "\n",
    "# Ввод f(x, y) будем осуществлять вручную в виде определения f-функции:\n",
    "def func(x, y):\n",
    "    return 3 * (x ** 2) * y + (x ** 2) * (np.exp(x ** 3))\n",
    "\n",
    "data = RungeKutta4(func)\n",
    "\n",
    "check = 2\n",
    "while (check != 0 and check != 1):\n",
    "    check = int(input('Введите 0, если выполнять проверку не нужно, и 1, если нужно.'))\n",
    "    \n",
    "#\n",
    "print('\\nЧисленное решение дифференциального уравнения:\\n', data[1])\n",
    "\n",
    "if check == 0:\n",
    "    # Построим график численного решения\n",
    "    plt.plot(data[0], data[1])\n",
    "    plt.axhline(y = 0, color = 'k')\n",
    "    plt.xlabel('x')\n",
    "    plt.axvline(x = 0, color = 'k')\n",
    "    plt.ylabel('y')\n",
    "    plt.grid(True)\n",
    "    plt.show()\n",
    "    \n",
    "elif check == 1:\n",
    "    # Вычислим значения невязок\n",
    "    diff = abs(data[1] - (data[0] ** 3) * np.exp(data[0] ** 3) / 3)\n",
    "    print('\\nЗначения невязок:\\n', diff)\n",
    "    print('Максимальная невязка:', max(diff))\n",
    "    if max(diff) < 0.0001:\n",
    "        print('\\nВывод: действительно, получен 4 порядок аппроксимации.')\n",
    "    else:\n",
    "        print('\\nОшибка! Погрешность вычислений имеет порядок, меньший 4.')\n",
    "        \n",
    "    # Построим графики численного и точного решений\n",
    "    x = np.linspace(0, 1, 100)\n",
    "    plt.plot(data[0], data[1], label = 'Численное решение')\n",
    "    plt.plot(x, (x ** 3) * np.exp(x ** 3) / 3, label = 'Точное решение')\n",
    "    plt.axhline(y = 0, color = 'k')\n",
    "    plt.xlabel('x')\n",
    "    plt.axvline(x = 0, color = 'k')\n",
    "    plt.ylabel('y')\n",
    "    plt.grid(True)\n",
    "    plt.legend()\n",
    "    plt.show()"
   ]
  },
  {
   "cell_type": "code",
   "execution_count": null,
   "id": "6fcb6175-b09c-4728-a170-3f40656055b2",
   "metadata": {},
   "outputs": [],
   "source": []
  }
 ],
 "metadata": {
  "kernelspec": {
   "display_name": "Python 3 (ipykernel)",
   "language": "python",
   "name": "python3"
  },
  "language_info": {
   "codemirror_mode": {
    "name": "ipython",
    "version": 3
   },
   "file_extension": ".py",
   "mimetype": "text/x-python",
   "name": "python",
   "nbconvert_exporter": "python",
   "pygments_lexer": "ipython3",
   "version": "3.10.9"
  }
 },
 "nbformat": 4,
 "nbformat_minor": 5
}
